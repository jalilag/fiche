{
 "cells": [
  {
   "cell_type": "markdown",
   "metadata": {},
   "source": [
    "# Note fibre optique\n",
    "## Anatomie\n",
    "**Circulation de l'onde lumineuse :** La fibre optique est un guide d'onde lumineuse. L'onde rentre en collision avec la paroi, lorsque l'angle de l'onde incidente par rapport à la surface est suffisament petite, l'onde est intégralement réfléchie et donc l'onde peut se propager indéfiniement à l'intérieur.\n",
    "Le coeur et la périphérie de la fibre ont des indices de réfraction différent. Celui du coeur étant plus grand cela permet d'avoir un effet mirroir et de confiner la lumière à l'intérieur. L'angle d'entrée est donc très important.\n",
    "Condition sur l'angle d'entrée:\n",
    "$$sin(\\theta)<=\\sqrt {n_1^2-n_2^2}$$\n",
    "Avec $\\theta$, $n_1$ et $n_2$ l'angle avec de la lumière incidente avec l'axe de la fibre, l'indice de réfraction du coeur et l'indice de réfraction de la gaine.\n",
    "\n",
    "\n",
    "La fibre est composé d'oxyde de silicium (SiO2). on retrouve ce matériau dans le quartz, la calcédoine ou l'opale et a la particularité de réflechir de façon optimale les longueurs d'onde **850nm**, **1300nm** et **1500nm**.\n",
    "\n",
    "Le coeur peut aller jusqu'à 4$\\mu m$ et l'ensemble de la grosseur d'un cheveu. La vitesse de la lumière à l'intérieur est de l'ordre de 200000 km/s.\n",
    "\n",
    "## Type de fibre\n",
    "**Fibre multimode**: Le coeur est gros et possède des couches de verre successives qui modifient graduellement l'indice de réfraction. Sensible à la dispersion due au changement progressif d'indice. Le diamètre élevé permet la propagation d'onde de différente longueur d'onde. Différent mode de propagation sont possibles ce qui induit des longueurs de trajet différent. La fibre multimode est plus économique (une LED est suffisante) et plus simple à utiliser mais le signal est plus détérioré et le débit plus faible.  \n",
    "Farahani et Gogolla ont démontré que pour des longueurs inférieures à 15km, les fibres multimodes à gradient d'indice sont préférable car elles permettent de recuellir une puissance anti-stokes (distribution anti-stokes dépend de la température contrairement à la distribution stokes) retrodiffusé supérieure.\n",
    "\n",
    "\n",
    "**Fibre monomode**: Le coeur est fin et permet une propagation presque en ligne droite et diminue grandement la dispersion. On peut la considérer nulle. Utile pour les grandes distances et débit élevé. L'inconvénient est que la source lumineuse doit être puissante pour propager la lumière dans un si petit diamètre (de l'ordre de la longueur d'onde). Nécéssite l'utilisation de laser. \n",
    "\n",
    "**Codage de l'information**: Le codage de l'information transmise est réalisée par variation relative de:\n",
    "- l'intensité\n",
    "- la phase\n",
    "- la longueur d'onde\n",
    "- la polarisation\n",
    "\n",
    "## Phénomène\n",
    "### Diffusion de la lumière\n",
    "La lumière incidente (photon) peut intéragir avec les molécules présentent dans le milieu.  \n",
    "la localisation de la mesure est déterminée grâce à la formule suivante:\n",
    "$$d=\\frac{c\\Delta t}{2n_G}$$\n",
    "Avec $c$, $n_G$ et $\\Delta t$ la célérité de la lumière, l'indice de groupe et la différence de temps entre l'impulsion et la reception.  \n",
    "La résolution spatiale dépend de la durée de l'impulsion.\n",
    "\n",
    "**Diffusion de Rayleigh**: Lorsque cette intéraction est réalisée sans échange d'énergie entre les photons et le milieu on parle de diffusion élastique. La longueur d'onde du photon diffusé est inchangé. 1 photon sur 10000 est diffusé élastiquement.\n",
    "\n",
    "**Analyse Raman**: La diffusion RAMAN correspond à la diffusion inélastique d'un photon par le milieu. Il y a donc un échange d'energie entre la lumière incidente (photon) et le mileu se traduisant par une excitation vibrationnelle ou la création (ou destructuction) d'un phonon (excitation selon un mode propre d'un solide cristallin).  \n",
    "Ceci s'accompagne de deux états :\n",
    "- décalage Stokes: le photon céde de l'energie, sa longueur d'onde augmente, sa fréquence diminue, son energie diminue.\n",
    "- décalge anti-Stokes: le photon reçoit de l'energie, sa longueur d'onde diminue, sa fréquence augmente, son energie augmente.\n",
    "Le décalage en longueur d'onde ne dépend pas de la longueur d'onde d'excitation mais dépend de la matière et peut donc permettre de la caractériser. On peut en fonction du décalage et de l'intensité mesurer les concentrations moléculaires de plusieurs esepèces.\n",
    "1 photon sur 100 000 000 est diffusé inélastiqueemnt.\n",
    "\n",
    "**Analyse Brilouin**: Le phénomène estidentique à la diffusion Raman. Elles différent simplement par les ordres de grandeur des décalages en fréquence (1-200GHz pour le brilouin et supérieur à 300 GHz pour le Raman). La diffusion Brillouin est sensible à la fois à la température et à la déformation. Plusieurs techniques ont été envisagées:\n",
    "- On a d'abord utilisé le rapport des intensités avec la sommes des intensités Brillouin (Stokes et anti-Stokes) : $\\frac{I_R}{I_S+I_{AS}}=\\frac{C_T(\\epsilon)}{T}$ (avec $C_T$ une constante). Ce rapport est fortement dépendant de la température mais est également légérement sensible à la déformation.\n",
    "\n",
    "- En utilisant le décalage en fréquence on obtient une relation affine fortement dépendante de la température et de la déformation: $\\nu_B=C_T\\Delta T+C_\\epsilon \\epsilon$ (avec $C_T\\approx1MHz/°C$ et $C_\\epsilon\\approx0.05MHz/\\mu\\epsilon$)\n",
    "\n",
    "**Réseau de bragg**: L'idée est de mettre en place des zones dont l'indice de réfraction varie périodiquement. On réalise ceci en utilisant un laser excimer. L'ensemble des cretes forment un filtre étroit permettant de ne réfléchir de la lumière incidente qu'une longueur d'onde. Les fluctuations de celle-ci sont liés au fluctuations de température et de contrainte.\n",
    "\n",
    "**DAS**: La résolution spatiale dépend de la durée du pulse incident. Plus la durée du pulse est courte plus la résolution est bonne. Toutefois la portée du signal dépend aussi de la durée du pulse et donc un compromis doit être trouvé entre portée et résolution.  \n"
   ]
  },
  {
   "cell_type": "code",
   "execution_count": null,
   "metadata": {
    "collapsed": true
   },
   "outputs": [],
   "source": []
  }
 ],
 "metadata": {
  "kernelspec": {
   "display_name": "Python 3",
   "language": "python",
   "name": "python3"
  },
  "language_info": {
   "codemirror_mode": {
    "name": "ipython",
    "version": 3
   },
   "file_extension": ".py",
   "mimetype": "text/x-python",
   "name": "python",
   "nbconvert_exporter": "python",
   "pygments_lexer": "ipython3",
   "version": "3.5.2"
  }
 },
 "nbformat": 4,
 "nbformat_minor": 1
}
